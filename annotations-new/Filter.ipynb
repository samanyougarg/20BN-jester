{
 "cells": [
  {
   "cell_type": "code",
   "execution_count": 1,
   "metadata": {},
   "outputs": [],
   "source": [
    "import pandas as pd"
   ]
  },
  {
   "cell_type": "code",
   "execution_count": 2,
   "metadata": {},
   "outputs": [],
   "source": [
    "# read train csv into a pandas dataframe\n",
    "training_labels_df = pd.read_csv('jester-v1-train.csv' , header=None,sep = \";\", index_col=False)\n",
    "# read validation csv into a pandas dataframe\n",
    "validation_labels_df = pd.read_csv('jester-v1-validation.csv' , header=None,sep = \";\", index_col=False)\n",
    "# read the labels csv into a pandas dataframe\n",
    "labels_df = pd.read_csv('jester-v1-labels.csv' , header=None,sep = \";\", index_col=False)"
   ]
  },
  {
   "cell_type": "code",
   "execution_count": 3,
   "metadata": {},
   "outputs": [
    {
     "name": "stdout",
     "output_type": "stream",
     "text": [
      "Train size: 237124\n",
      "Validation size: 29574\n",
      "Labels size: 27\n"
     ]
    }
   ],
   "source": [
    "print(\"Train size: \" + str(training_labels_df.size))\n",
    "print(\"Validation size: \" + str(validation_labels_df.size))\n",
    "print(\"Labels size: \" + str(labels_df.size))"
   ]
  },
  {
   "cell_type": "code",
   "execution_count": 4,
   "metadata": {},
   "outputs": [],
   "source": [
    "targets_name = {\n",
    "    \"Thumb Down\": \"thumbs down\",\n",
    "    \"Stop Sign\": \"stop\",\n",
    "    \"Swiping Left\": \"swipe left\",\n",
    "    \"Swiping Right\": \"swipe right\",\n",
    "    \"No gesture\": \"no gesture\",\n",
    "    \"Thumb Up\": \"thumbs up\",\n",
    "    \"Drumming Fingers\": \"type\",\n",
    "    \"Zooming In With Two Fingers\": \"zoom in\",\n",
    "    \"Zooming Out With Two Fingers\": \"zoom out\",\n",
    "    \"Shaking Hand\": \"swing hand\",\n",
    "    \"Swiping Down\": \"swipe down\",\n",
    "    \"Swiping Up\": \"swipe up\",\n",
    "}"
   ]
  },
  {
   "cell_type": "code",
   "execution_count": 5,
   "metadata": {},
   "outputs": [],
   "source": [
    "training_labels_df[1] = training_labels_df[1].map(targets_name)\n",
    "validation_labels_df[1] = validation_labels_df[1].map(targets_name)\n",
    "labels_df[0] = labels_df[0].map(targets_name)"
   ]
  },
  {
   "cell_type": "code",
   "execution_count": 7,
   "metadata": {},
   "outputs": [],
   "source": [
    "training_labels_df = training_labels_df.dropna()\n",
    "validation_labels_df = validation_labels_df.dropna()\n",
    "labels_df = labels_df.dropna()"
   ]
  },
  {
   "cell_type": "code",
   "execution_count": 9,
   "metadata": {},
   "outputs": [],
   "source": [
    "# save our filtered dataframes as csv files\n",
    "training_labels_df.to_csv('jester-v1-train-filtered.csv',header=False,sep=\";\",index=False)\n",
    "validation_labels_df.to_csv('jester-v1-validation-filtered.csv',header=False,sep=\";\",index=False)\n",
    "labels_df.to_csv('jester-v1-labels-filtered.csv',header=False,sep=\";\",index=False)"
   ]
  },
  {
   "cell_type": "code",
   "execution_count": null,
   "metadata": {},
   "outputs": [],
   "source": []
  }
 ],
 "metadata": {
  "kernelspec": {
   "display_name": "Python 3",
   "language": "python",
   "name": "python3"
  },
  "language_info": {
   "codemirror_mode": {
    "name": "ipython",
    "version": 3
   },
   "file_extension": ".py",
   "mimetype": "text/x-python",
   "name": "python",
   "nbconvert_exporter": "python",
   "pygments_lexer": "ipython3",
   "version": "3.7.4"
  }
 },
 "nbformat": 4,
 "nbformat_minor": 2
}
